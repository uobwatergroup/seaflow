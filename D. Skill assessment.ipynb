{
 "cells": [
  {
   "cell_type": "markdown",
   "id": "94a2fb33",
   "metadata": {},
   "source": [
    "# Skill assessment (CRPS calculations)\n",
    "\n",
    "Since the seasonal forecasts are comprised of ensemble members, generally applied simple evaluation methods such as RMSE (Root Mean Squared Error) and R2 have limitations. \n",
    "Thus, in this code, CRPS or CRPSS are adopted to measure the skill of ensembled datasets.\n",
    "This code enables you to calculate those indices automatically."
   ]
  },
  {
   "cell_type": "markdown",
   "id": "231ec6c3",
   "metadata": {},
   "source": [
    "### 1. Import libraries\n",
    "Now, we need to import the necessary libraries and tools (🚨 in order to run the code like in the box below, place the mouse pointer in the cell, then click on “run cell” button above or press shift + enter)."
   ]
  },
  {
   "cell_type": "code",
   "execution_count": 1,
   "id": "b01864a4",
   "metadata": {},
   "outputs": [],
   "source": [
    "import os, re\n",
    "import pandas as pd\n",
    "from pandas import Series, DataFrame\n",
    "import numpy as np"
   ]
  },
  {
   "cell_type": "markdown",
   "id": "f1452353",
   "metadata": {},
   "source": [
    "### 2. Simulation settings"
   ]
  },
  {
   "cell_type": "code",
   "execution_count": 9,
   "id": "026c9c0a",
   "metadata": {},
   "outputs": [],
   "source": [
    "forecast_center = 'ECMWF'\n",
    "\n",
    "# Assign working directory and time series data\n",
    "path = os.getcwd()\n",
    "\n",
    "# Input simulation information\n",
    "catchment_name = 'A'\n",
    "start_year = 2011\n",
    "start_month = 1\n",
    "start_day = 1\n",
    "start_date = str(start_month).zfill(2) + '/' + str(start_day).zfill(2) + '/' + str(start_year)\n",
    "end_year = 2020\n",
    "end_month = 12\n",
    "end_day = 31\n",
    "end_date = str(end_month).zfill(2) + '/' + str(end_day).zfill(2) + '/' + str(end_year)"
   ]
  },
  {
   "cell_type": "markdown",
   "id": "7f671b56",
   "metadata": {},
   "source": [
    "###  3. Rearrange Datasets\n",
    "\n",
    "Basically, CRPS/CRPSS are calculated according to lead time. Therefore, we need to collect them into a single file for each lead time. This code enable to collect every data having same lead time. "
   ]
  },
  {
   "cell_type": "markdown",
   "id": "fa93bf98",
   "metadata": {},
   "source": [
    "#### 3.1 ESP ensemble"
   ]
  },
  {
   "cell_type": "code",
   "execution_count": 10,
   "id": "f5af68ec",
   "metadata": {},
   "outputs": [],
   "source": [
    "for leadtime in range(1,8):                             # from lead time 1 to 7 months \n",
    "    for year in range(start_year,end_year+1):           \n",
    "        for month in range(start_month, end_month+1):\n",
    "            # read esp simulation results\n",
    "            df = pd.read_csv(path + '/analysis/3.ESP/3_run/[out]' + catchment_name + '_' + str(year) + '_' \n",
    "                             + str(month).zfill(2) + '.csv')\n",
    "            df2=df.groupby(by=['leadtime']).mean().cumsum()  # calculate accumulated value at each lead time\n",
    "            df2['date'] = str(year) + '_' + str(month)       # insert 'date' column\n",
    "            # rearrange column order \n",
    "            col1=df2.columns[-1:].to_list()      \n",
    "            col2=df2.columns[:-1].to_list()\n",
    "            new_col=col1+col2\n",
    "            df3=df2[new_col]\n",
    "            temp = pd.DataFrame(df3.loc[leadtime]).T\n",
    "            # stack data\n",
    "            if year == int(start_year) and month == int(start_month):\n",
    "                temp1 = temp\n",
    "            else :\n",
    "                pass\n",
    "            temp1 = pd.concat([temp1, temp], axis=0, ignore_index = True)\n",
    "            \n",
    "    temp1 = temp1.iloc[1:]\n",
    "    temp1.set_index('date', inplace=True)\n",
    "    temp1.to_csv(path + '/analysis/3.ESP/3_run/skill/'  + catchment_name + '_' + str(leadtime) + '_esp.csv') # save csv"
   ]
  },
  {
   "cell_type": "markdown",
   "id": "e063970a",
   "metadata": {},
   "source": [
    "#### 3.2 SFFs ensemble"
   ]
  },
  {
   "cell_type": "code",
   "execution_count": 11,
   "id": "68efecc5",
   "metadata": {},
   "outputs": [],
   "source": [
    "folder = {1:'original',2:'biascorrected'}\n",
    "\n",
    "for bc_type in range(1,3):                        # bias correction type\n",
    "    for leadtime in range(1,8):                   # lead time from 1 to 7 months\n",
    "        for year in range(start_year,end_year+1):\n",
    "            for month in range(start_month, end_month+1):\n",
    "                # read seasonal hydrological forecasts results\n",
    "                df = pd.read_csv(path + '/analysis/4.SFFs/3_run/' + folder[bc_type] + '/[out]' +  catchment_name + '_' \n",
    "                                 + str(year) + '_' + str(month).zfill(2) + '.csv')\n",
    "                df2=df.groupby(by=['leadtime']).mean().cumsum()  # calculate accumulated value at each lead time\n",
    "                df2['date'] = str(year) + '_' + str(month)       # insert 'date' column\n",
    "                # rearrange column order                 \n",
    "                col1=df2.columns[-1:].to_list()\n",
    "                col2=df2.columns[:-1].to_list()\n",
    "                new_col=col1+col2\n",
    "                df3=df2[new_col]\n",
    "                temp = pd.DataFrame(df3.loc[leadtime]).T\n",
    "                # stack data\n",
    "                if year == int(start_year) and month == int(start_month):\n",
    "                    temp1 = temp\n",
    "                else :\n",
    "                    pass\n",
    "                temp1 = pd.concat([temp1, temp], axis=0, ignore_index = True)\n",
    "            \n",
    "        temp1 = temp1.iloc[1:]\n",
    "        temp1['mean2'] = temp1['mean']\n",
    "        temp1['obs2'] = temp1['obs']\n",
    "        temp1=temp1.drop(['mean','obs'], axis=1)\n",
    "        temp1.rename(columns={'mean2':'mean', 'obs2':'obs'}, inplace=True)\n",
    "        temp1.set_index('date', inplace=True)\n",
    "        temp1.to_csv(path + '/analysis/4.SFFs/3_run/' + folder[bc_type] + '/skill/' + catchment_name + '_' \n",
    "                     + str(leadtime) + '_' + folder[bc_type] + '_sffs.csv') # save data"
   ]
  },
  {
   "cell_type": "markdown",
   "id": "8626673c",
   "metadata": {},
   "source": [
    "### 4. Calculate CRPS at each lead time\n",
    "\n",
    "CRPS is a measure of how good forecasts are in matching observed outcomes considering each ensemble. It is a quadratic measure of the difference between the forecast cumulative distribution function (CDF) and the reference dataset of the observation (Zamo and Naveau, 2017). The CRPS is thus calculated as\n",
    "\n",
    "$$ CRPS= \\int [F(x) - H(x > y)]^2 dx $$\n",
    "\n",
    "where F(x) represents the cumulative distribution of seasonal forecasts, y is observed precipitation, H is called the indicator function which is equals to 1 when x > y and 0 when x < y. Once the CRPS is equals to 0, the forecast is wholly accurate, conversely, the higher the CRPS, the worse the performance of the forecast. \n",
    "\n",
    "Also, sometimes we can face the issue from the number of ensemble members. Most of originating centres have changed number of ensemble members once. (Please see A.Download seasonal forecasts datasets / 3. Seasonal forecasts systems and datasets for 8 originating centres / Total precipitation table). In this case, we need to designate exact location and number of ensemble manually. \n",
    "\n",
    "This example show you the case when we apply ECMWF datasets to calculate CRPS from 2011 to 2020. In this case, there are 25 ensemble members and 72 rows from Jan.2011 to Dec.2016, also rest of the data have 51 ensemble members. If the number of ensemble members is same, you can put the same number on it.  <font color='red'> Please note that, you need to manually revise some of the code below;</font>"
   ]
  },
  {
   "cell_type": "markdown",
   "id": "3ea64c32",
   "metadata": {},
   "source": [
    "#### 4.1 CRPS of ESP"
   ]
  },
  {
   "cell_type": "code",
   "execution_count": 12,
   "id": "fc519f7f",
   "metadata": {},
   "outputs": [
    {
     "name": "stdout",
     "output_type": "stream",
     "text": [
      "The skill (CRPS) of ESP is computed\n"
     ]
    }
   ],
   "source": [
    "import hydrostats.ens_metrics as em   # read library for calculating crps\n",
    "\n",
    "for leadtime in range(1,8):\n",
    "    # read ESP data rearanged by lead times\n",
    "    df = pd.read_csv(path + '/analysis/3.ESP/3_run/skill/'  + catchment_name + '_' + str(leadtime) + '_esp.csv')\n",
    "    df_a = df.to_numpy().astype(float)\n",
    "    df_a2 = df_a[:,1:df_a.shape[1]-2]    # select ensemble data only\n",
    "    df_obs = df_a[:, len(df.columns)-1]  # select the column for observed data\n",
    "    # calculate crps using observed and ensemble data    \n",
    "    crps_dictionary_rand1 = em.ens_crps(df_obs, df_a2)   \n",
    "    crps = crps_dictionary_rand1['crps']\n",
    "    csv = pd.DataFrame(crps)\n",
    "    csv['month'] = df['date'].str.slice(start=5,stop=7)\n",
    "    csv.set_index(df['date'], inplace=True)\n",
    "    csv=csv[['month',0]]\n",
    "    csv=csv.rename(columns={0:'CRPS'})\n",
    "    csv['leadtime'] = leadtime\n",
    "    # stack data\n",
    "    if leadtime == 1:\n",
    "        temp = csv\n",
    "    temp = pd.concat([temp, csv])\n",
    "temp = temp.iloc[12*10:]\n",
    "temp = temp[['month', 'leadtime', 'CRPS']]\n",
    "temp.to_csv(path + '/analysis/3.ESP/3_run/skill/[skill]'  + catchment_name + '_esp.csv')  # save the results\n",
    "\n",
    "print('The skill (CRPS) of ESP is computed')"
   ]
  },
  {
   "cell_type": "markdown",
   "id": "213d9fb7",
   "metadata": {},
   "source": [
    "#### 4.2 CRPS of SFFs"
   ]
  },
  {
   "cell_type": "code",
   "execution_count": 13,
   "id": "28824446",
   "metadata": {},
   "outputs": [
    {
     "name": "stdout",
     "output_type": "stream",
     "text": [
      "The skill (CRPS) of SFFs has computed.\n"
     ]
    }
   ],
   "source": [
    "import hydrostats.ens_metrics as em   # read library for calculating crps\n",
    "folder = {1:'original',2:'biascorrected'}\n",
    "\n",
    "# (Should be manually revised) \n",
    "num_row = 72    # The number of rows for the first datasets having 'num_col1' of ensemble members\n",
    "num_col1 = 25    # The number of ensemble members for the first datasets\n",
    "num_col2 = 51    # The number of ensemble members for the second datasets\n",
    "\n",
    "for bc_type in range(1,3):\n",
    "    for leadtime in range(1,8):\n",
    "        # read SFFs data rearanged by lead times\n",
    "        df = pd.read_csv(path + '/analysis/4.SFFs/3_run/' + folder[bc_type] + '/skill/' + catchment_name + '_' \n",
    "                    + str(leadtime) + '_' + folder[bc_type] + '_sffs.csv')\n",
    "        df_a = df.to_numpy().astype(float)\n",
    "        df_a2 = df_a[:,1:df_a.shape[1]-2]            # select ensemble data only\n",
    "        df_a3 = df_a2[:num_row, :num_col1]           # select ensemble data having 25 ensembles (~ Dec. 2016)\n",
    "        df_a4 = df_a2[num_row:, :num_col2]           # select ensemble data having 51 ensembles (Jan. 2017 ~)\n",
    "        df_obs1 = df_a[:num_row, len(df.columns)-1]  # select the column for observed data having 25 ensembles (~ Dec. 2016)\n",
    "        df_obs2 = df_a[num_row:, len(df.columns)-1]  # select the column for observed data having 51 ensembles (Jan. 2017 ~)\n",
    "        # calculate crps using observed and ensemble data\n",
    "        crps_dictionary_rand1 = em.ens_crps(df_obs1, df_a3)\n",
    "        crps_dictionary_rand2 = em.ens_crps(df_obs2, df_a4)\n",
    "        temp1 = crps_dictionary_rand1['crps']\n",
    "        temp2 = crps_dictionary_rand2['crps']\n",
    "        crps = np.concatenate([temp1, temp2], axis=0)  # 두개의 array를 axis=0 즉 행 방향으로(아래쪽으로) 합치기\n",
    "        csv = pd.DataFrame(crps)\n",
    "        csv['month'] = df['date'].str.slice(start=5,stop=7)\n",
    "        csv['date'] = df['date']\n",
    "        csv.set_index(csv['date'], inplace=True)\n",
    "        csv=csv[['month',0]]\n",
    "        csv=csv.rename(columns={0:'CRPS'})\n",
    "        csv['leadtime'] = leadtime\n",
    "        # stack data\n",
    "        if leadtime == 1:\n",
    "            temp = csv\n",
    "        temp = pd.concat([temp, csv])\n",
    "    temp = temp.iloc[12*10:]\n",
    "    temp = temp[['month', 'leadtime', 'CRPS']]\n",
    "    temp.to_csv(path + '/analysis/4.SFFs/3_run/' + folder[bc_type] + '/skill/[skill]' + catchment_name \n",
    "                + '_' + folder[bc_type] + '_sffs.csv')  # save the results\n",
    "print('The skill (CRPS) of SFFs has computed.')"
   ]
  },
  {
   "cell_type": "markdown",
   "id": "634c62dc",
   "metadata": {},
   "source": [
    "### 5. CRPSS calculation\n",
    "\n",
    "CRPSS compares the skill of seasonal forecasts with climatology, thus finally it can be simply calculated as \n",
    "\n",
    "$$ CRPSS=\\ 1\\ -\\ \\frac{{\\rm CRPS}^{Sys}}{{\\rm CRPS}^{Ref}}$$\n",
    "\n",
    "where $CRPS^{Sys}$ is previously calculated $CRPS$ (seasonal forecasts), $CRPS^{Ref}$ represents the reference $CRPS$ obtained from climatology. When the skill score is higher (lower) than zero, the forecasting system is more (less) skilful than reference. When it is equal to zero, the system (seasonal forecasts) and the reference (Climatology) have equivalent skill. \n",
    "\n",
    "CRPSS can be calculated by runing the code below;"
   ]
  },
  {
   "cell_type": "code",
   "execution_count": 14,
   "id": "75b4fff6",
   "metadata": {},
   "outputs": [
    {
     "name": "stderr",
     "output_type": "stream",
     "text": [
      "<ipython-input-14-6b171de0710a>:16: SettingWithCopyWarning: \n",
      "A value is trying to be set on a copy of a slice from a DataFrame\n",
      "\n",
      "See the caveats in the documentation: https://pandas.pydata.org/pandas-docs/stable/user_guide/indexing.html#returning-a-view-versus-a-copy\n",
      "  df['count'][i] = 0\n",
      "<ipython-input-14-6b171de0710a>:14: SettingWithCopyWarning: \n",
      "A value is trying to be set on a copy of a slice from a DataFrame\n",
      "\n",
      "See the caveats in the documentation: https://pandas.pydata.org/pandas-docs/stable/user_guide/indexing.html#returning-a-view-versus-a-copy\n",
      "  df['count'][i] = 1\n",
      "<ipython-input-14-6b171de0710a>:14: SettingWithCopyWarning: \n",
      "A value is trying to be set on a copy of a slice from a DataFrame\n",
      "\n",
      "See the caveats in the documentation: https://pandas.pydata.org/pandas-docs/stable/user_guide/indexing.html#returning-a-view-versus-a-copy\n",
      "  df['count'][i] = 1\n",
      "<ipython-input-14-6b171de0710a>:16: SettingWithCopyWarning: \n",
      "A value is trying to be set on a copy of a slice from a DataFrame\n",
      "\n",
      "See the caveats in the documentation: https://pandas.pydata.org/pandas-docs/stable/user_guide/indexing.html#returning-a-view-versus-a-copy\n",
      "  df['count'][i] = 0\n"
     ]
    },
    {
     "name": "stdout",
     "output_type": "stream",
     "text": [
      "CRPSS calculation has completed.\n"
     ]
    }
   ],
   "source": [
    "folder = {1:'original',2:'biascorrected'}\n",
    "\n",
    "for bc_type in range(1,3):\n",
    "    # read calculated CRPS data (SFFs)\n",
    "    df = pd.read_csv(path + '/analysis/4.SFFs/3_run/' + folder[bc_type] + '/skill/[skill]' + catchment_name \n",
    "                     + '_' + folder[bc_type] + '_sffs.csv')\n",
    "    # read reference CRPS data (ESP)\n",
    "    df_ref = pd.read_csv(path + '/analysis/3.ESP/3_run/skill/[skill]'  + catchment_name + '_esp.csv')    \n",
    "    df['CRPS_ref'] = df_ref['CRPS']                 # add reference CRPS column\n",
    "    df['CRPSS'] = 1 - df['CRPS'] / df['CRPS_ref']   # add CRPSS column\n",
    "    df['count'] = np.nan\n",
    "    for i in range(0,len(df)):\n",
    "        if df['CRPSS'][i] > 0:\n",
    "            df['count'][i] = 1\n",
    "        else:\n",
    "            df['count'][i] = 0\n",
    "    df.to_csv(path + '/analysis/4.SFFs/3_run/' + folder[bc_type] + '/skill/[skill]' + catchment_name \n",
    "                    + '_' + folder[bc_type] + '_sffs.csv')       # save the result on the same file\n",
    "print('CRPSS calculation has completed.')"
   ]
  },
  {
   "cell_type": "code",
   "execution_count": null,
   "id": "e4f903a0",
   "metadata": {},
   "outputs": [],
   "source": []
  }
 ],
 "metadata": {
  "kernelspec": {
   "display_name": "Python 3",
   "language": "python",
   "name": "python3"
  },
  "language_info": {
   "codemirror_mode": {
    "name": "ipython",
    "version": 3
   },
   "file_extension": ".py",
   "mimetype": "text/x-python",
   "name": "python",
   "nbconvert_exporter": "python",
   "pygments_lexer": "ipython3",
   "version": "3.8.8"
  }
 },
 "nbformat": 4,
 "nbformat_minor": 5
}
