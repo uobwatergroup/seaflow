{
 "cells": [
  {
   "cell_type": "markdown",
   "id": "94a2fb33",
   "metadata": {},
   "source": [
    "# ESP Simulation\n",
    "\n",
    "We have completed model calibration and validation using module A. Model calibration and validation. Now, we are going to generate ESP ensemble scenario using multiple observed weather datasets and run the Tank model.\n",
    "\n",
    "ESP (Day, 1985) is a widely used operational forecasting method that forecast flow using the current hydrological conditions and forced into the forecast period with an ensemble of historical meteorological sequences (Baker et al., 2021). The concep of ESP can be simply repesented by the figure below;\n",
    "\n",
    "</b>\n",
    "\n",
    "<div>\n",
    "<img src=\"./util/images/ESP.jpg\", width=\"700\"/>\n",
    "</div>"
   ]
  },
  {
   "cell_type": "markdown",
   "id": "e1f7dd63",
   "metadata": {},
   "source": [
    "### 1. Import libraries\n",
    "Now, we need to import the necessary libraries and tools (🚨 in order to run the code like in the box below, place the mouse pointer in the cell, then click on “run cell” button above or press shift + enter)."
   ]
  },
  {
   "cell_type": "code",
   "execution_count": 1,
   "id": "34bfc8a9",
   "metadata": {},
   "outputs": [],
   "source": [
    "import os, re\n",
    "import pandas as pd\n",
    "from pandas import Series, DataFrame\n",
    "import numpy as np\n",
    "import datetime\n",
    "from datetime import date\n",
    "from dateutil.relativedelta import relativedelta"
   ]
  },
  {
   "cell_type": "markdown",
   "id": "06038e42",
   "metadata": {},
   "source": [
    "### 2. Simulation settings"
   ]
  },
  {
   "cell_type": "code",
   "execution_count": 6,
   "id": "a5064759",
   "metadata": {},
   "outputs": [],
   "source": [
    "# Assign working directory and time series data\n",
    "path = os.getcwd()\n",
    "\n",
    "# Assign location of time series file\n",
    "catchment_name = 'A'\n",
    "\n",
    "# Input simulation information\n",
    "ratio = {'A':0.23, 'B':0.605}         # This ratio represent Loss/PET and manually (see hydrologic_data.xlsx)\n",
    "area = {'A':2073.0, 'B':1584.0}       # Catchment area\n",
    "sim_title = catchment_name + '_esp'\n",
    "loss_et_ratio = ratio[catchment_name]\n",
    "catch_area =  area[catchment_name]\n",
    "\n",
    "warmup_year = 2009  # model warm up start year (model will start to run from this year Janurary first)\n",
    "\n",
    "start_year = 2011\n",
    "start_month = 1\n",
    "start_day = 1\n",
    "start_date = str(start_month).zfill(2) + '/' + str(start_day).zfill(2) + '/' + str(start_year)\n",
    "end_year = 2020\n",
    "end_month = 12\n",
    "end_day = 31\n",
    "end_date = str(end_month).zfill(2) + '/' + str(end_day).zfill(2) + '/' + str(end_year)"
   ]
  },
  {
   "cell_type": "markdown",
   "id": "206dcdb0",
   "metadata": {},
   "source": [
    "### 3. Parameter assimilation\n",
    "\n",
    "Here we assimilate the parameters using already calibrated results."
   ]
  },
  {
   "cell_type": "code",
   "execution_count": 8,
   "id": "2fc8d629",
   "metadata": {},
   "outputs": [],
   "source": [
    "# Initial conditions (7)\n",
    "XSI      =  240.0\n",
    "XAI      =  0.0\n",
    "XBI      =  0.0\n",
    "XCI      =  10.0\n",
    "XDI      =  500.0\n",
    "S1       =  40.0\n",
    "S2       =  250.0\n",
    "# Parameters (21) bring calibrated parameters\n",
    "parameter = pd.read_csv(path + '/analysis/1.parameter/' + catchment_name + '_parameter.csv')\n",
    "K1       = parameter['value'][0]\n",
    "K2       = parameter['value'][1]\n",
    "A2       = parameter['value'][2]\n",
    "A1       = parameter['value'][3]\n",
    "A0       = parameter['value'][4]\n",
    "B1       = parameter['value'][5]\n",
    "B0       = parameter['value'][6]\n",
    "C1       = parameter['value'][7]\n",
    "C0       = parameter['value'][8]\n",
    "D1       = parameter['value'][9]\n",
    "HA2      = parameter['value'][10]\n",
    "HA1      = parameter['value'][11]\n",
    "HB       = parameter['value'][12]\n",
    "HC       = parameter['value'][13]\n",
    "U1       = parameter['value'][14]\n",
    "U2       = parameter['value'][15]\n",
    "SNOSTOR0 = parameter['value'][16]\n",
    "T_RAIN   = parameter['value'][17]\n",
    "T_SNOW   = parameter['value'][18]\n",
    "MELTMAX  = parameter['value'][19]\n",
    "ALPHA    = parameter['value'][20]"
   ]
  },
  {
   "cell_type": "markdown",
   "id": "a01a3180",
   "metadata": {},
   "source": [
    "### 4. Tank model input file genetration (ESP)"
   ]
  },
  {
   "cell_type": "markdown",
   "id": "315890c7",
   "metadata": {},
   "source": [
    "#### 4.1. Create basic input files\n",
    "\n",
    "Now, we generate input file for the ESP simulation with Tank model. These basic input files have information regarding the simulation of Tank model such as simulation title, period, parameters and observed data from the beginning of warm up year to simulation starting month."
   ]
  },
  {
   "cell_type": "code",
   "execution_count": 9,
   "id": "4be7fdb6",
   "metadata": {},
   "outputs": [
    {
     "name": "stdout",
     "output_type": "stream",
     "text": [
      "Basic input file for ESP has generated!\n"
     ]
    }
   ],
   "source": [
    "for year in range(start_year, end_year+1):\n",
    "    for month in range(start_month, end_month+1):\n",
    "        # call the data\n",
    "        file = open(path + '/analysis/3.ESP/1_input/' + catchment_name + '_' + str(year) + '_' + str(month).zfill(2) + '.txt', \"w\")\n",
    "        # simulation start date will be the first of Janurary of warmup_year\n",
    "        start_date = str(1).zfill(2) + '/' + str(1).zfill(2) + '/' + str(warmup_year)\n",
    "        date_start = datetime.datetime(year, month, 1)\n",
    "        date_end   = date_start + relativedelta(months=+7)\n",
    "        sim_end   = datetime.datetime(date_end.year, date_end.month, 1) - datetime.timedelta(days=1)\n",
    "        end_date = str(sim_end.month).zfill(2) + '/' + str(sim_end.day).zfill(2) + '/' + str(sim_end.year)\n",
    "        \n",
    "        # allocate simulation information\n",
    "        file.write(str(sim_title).rjust(10) + \"\\n\")\n",
    "        file.write(str(catchment_name).rjust(20) + \"\\n\")\n",
    "        file.write(str(start_date).rjust(10) + str(end_date).rjust(20) + \"\\n\")\n",
    "        file.write(str(loss_et_ratio).rjust(10) + str(0.0).rjust(10) + \"\\n\")\n",
    "        file.write(str(catch_area).rjust(10) + \"\\n\")\n",
    "        # allocate initial parameters\n",
    "        file.write(str(XSI).rjust(20) + str('XSI').rjust(10) + str(SNOSTOR0).rjust(20) + str('SNOSTOR0').rjust(10) + \"\\n\")\n",
    "        file.write(str(XAI).rjust(20) + str('XAI').rjust(10) + str(T_RAIN).rjust(20) + str('T_RAIN').rjust(10) + \"\\n\")\n",
    "        file.write(str(XBI).rjust(20) + str('XBI').rjust(10) + str(T_SNOW).rjust(20) + str('T_SNOW').rjust(10) + \"\\n\")\n",
    "        file.write(str(XCI).rjust(20) + str('XCI').rjust(10) + str(MELTMAX).rjust(20) + str('MELTMAX').rjust(10) + \"\\n\")\n",
    "        file.write(str(XDI).rjust(20) + str('XDI').rjust(10) + str(ALPHA).rjust(20) + str('ALPHA').rjust(10) + \"\\n\")\n",
    "        file.write(str(S1).rjust(20) + str('S1').rjust(10) + \"\\n\")\n",
    "        file.write(str(S2).rjust(20) + str('S2').rjust(10) + \"\\n\")\n",
    "        file.write(str(K1).rjust(20) + str('K1').rjust(10) + \"\\n\")\n",
    "        file.write(str(K2).rjust(20) + str('K2').rjust(10) + \"\\n\")\n",
    "        file.write(str(A2).rjust(20) + str('A2').rjust(10) + \"\\n\")\n",
    "        file.write(str(A1).rjust(20) + str('A1').rjust(10) + \"\\n\")\n",
    "        file.write(str(A0).rjust(20) + str('A0').rjust(10) + \"\\n\")\n",
    "        file.write(str(B1).rjust(20) + str('B1').rjust(10) + \"\\n\")\n",
    "        file.write(str(B0).rjust(20) + str('B0').rjust(10) + \"\\n\")\n",
    "        file.write(str(C1).rjust(20) + str('C1').rjust(10) + \"\\n\")\n",
    "        file.write(str(C0).rjust(20) + str('C0').rjust(10) + \"\\n\")\n",
    "        file.write(str(D1).rjust(20) + str('D1').rjust(10) + \"\\n\")\n",
    "        file.write(str(HA2).rjust(20) + str('HA2').rjust(10) + \"\\n\")\n",
    "        file.write(str(HA1).rjust(20) + str('HA1').rjust(10) + \"\\n\")\n",
    "        file.write(str(HB).rjust(20) + str('HB').rjust(10) + \"\\n\")\n",
    "        file.write(str(HC).rjust(20) + str('HC').rjust(10) + \"\\n\")\n",
    "        file.write(str(U1).rjust(20) + str('U1').rjust(10) + \"\\n\")\n",
    "        file.write(str(U2).rjust(20) + str('U2').rjust(10) + \"\\n\")\n",
    "        \n",
    "        # call the time series data (csv)        \n",
    "        data = pd.read_csv(path + '/data/' + catchment_name + '_hydrologic_data.csv', skipfooter = 0)  # read input data (daily rain, temp, evapotranspiration)\n",
    "        # allocate the time series data to the input file\n",
    "        date = list(data['date'])\n",
    "        rain = list(data['rain'])\n",
    "        obs_flow = list(data['obs_flow'])\n",
    "        ET = list(data['et'])\n",
    "        temp = list(data['temp'])\n",
    "        \n",
    "        endrow_date = datetime.datetime(year, month, 1) - datetime.timedelta(days=1)\n",
    "        start_row = data.index[data['date'] == str(2009) + '-' + str(1).zfill(2) + '-' + str(1).zfill(2)].tolist()[0]\n",
    "        end_row   = data.index[data['date'] == str(endrow_date.year) + '-' + str(endrow_date.month).zfill(2) + '-' + str(endrow_date.day).zfill(2)].tolist()[0]\n",
    "        for index in range(start_row, end_row+1):\n",
    "                file.write(str(date[index]).rjust(10) + str(rain[index]).rjust(10) + str(obs_flow[index]).rjust(10)  + str(ET[index]).rjust(10) + str(temp[index]).rjust(10) + \"\\n\")\n",
    "        file.close()\n",
    "        file.close()\n",
    "print('Basic input file for ESP has generated!')"
   ]
  },
  {
   "cell_type": "markdown",
   "id": "76aac26f",
   "metadata": {},
   "source": [
    "#### 4.2. Generation of ESP ensemble using historical data\n",
    "\n",
    "Create hydrological ensemble of precipitation, temperature, ET and observed flow data. Hydrological data of each catchment is shown in /data/ folder. We generate this ensemble scenario for every month with multiple historical observations."
   ]
  },
  {
   "cell_type": "code",
   "execution_count": 11,
   "id": "e345041e",
   "metadata": {},
   "outputs": [
    {
     "name": "stdout",
     "output_type": "stream",
     "text": [
      "Ensemble data file for ESP has generated!\n"
     ]
    }
   ],
   "source": [
    "past_start_year = 1966     # Define the start year of your historical data\n",
    "\n",
    "for year in range(past_start_year, start_year):\n",
    "    for month in range(start_month, end_month+1):\n",
    "        # create new txt file\n",
    "        file = open(path + '/analysis/3.ESP/2_ensemble/' + catchment_name + '_' + str(year) + '_' + str(month).zfill(2) + '.txt', \"w\")\n",
    "        # call the historical hydrologic data\n",
    "        data = pd.read_csv(path + '/data/' + catchment_name + '_hydrologic_data.csv', skipfooter = 0)  # read input data (daily rain, temp, evapotranspiration)\n",
    "        # allocate the data for each year and month\n",
    "        date = list(data['date'])\n",
    "        rain = list(data['rain'])\n",
    "        obs_inflow = list(data['obs_flow'])\n",
    "        ET = list(data['et'])\n",
    "        temp = list(data['temp'])\n",
    "        # define the start and end row of the historical data\n",
    "        start_row = data.index[data['date'] == str(year) + '-' + str(month).zfill(2) + '-' + str(1).zfill(2)].tolist()[0]\n",
    "        endrow_date = datetime.datetime(year, month, 1) + relativedelta(months=+7)\n",
    "        end_row   = data.index[data['date'] == str(endrow_date.year) + '-' + str(endrow_date.month).zfill(2) + '-' \n",
    "                               + str(endrow_date.day).zfill(2)].tolist()[0]\n",
    "        for index in range(start_row, end_row+1):\n",
    "                file.write(str(date[index]).rjust(10) + str(rain[index]).rjust(10) + str(ET[index]).rjust(20) \n",
    "                           + str(temp[index]).rjust(10) + \"\\n\")\n",
    "        file.close()\n",
    "        file.close()\n",
    "print('Ensemble data file for ESP has generated!')"
   ]
  },
  {
   "cell_type": "markdown",
   "id": "922c8dfa",
   "metadata": {},
   "source": [
    "#### 4.3. Combine the basic input (from 4.1) and ensemble data (from 4.2)\n",
    "\n",
    "This code enables the combination between the basic simulation input file generated from process 4.1 and ensemble data from process 4.2. When you run this code, you can get the acutal input files for Tank model."
   ]
  },
  {
   "cell_type": "code",
   "execution_count": 13,
   "id": "eb852456",
   "metadata": {},
   "outputs": [
    {
     "name": "stdout",
     "output_type": "stream",
     "text": [
      "File combination has completed!\n"
     ]
    }
   ],
   "source": [
    "for month in range(start_month, end_month+1):\n",
    "    for year in range(start_year,end_year+1):\n",
    "        data = data2 = \"\"\n",
    "        for past in range(past_start_year, start_year):\n",
    "            # Read basic input file\n",
    "            with open(path + '/analysis/3.ESP/1_input/' + str(catchment_name) + '_' + str(year) + '_' \n",
    "                      + str(month).zfill(2) + '.txt') as fp:\n",
    "                data = fp.read()\n",
    "            # Read ensemble file\n",
    "            with open(path + '/analysis/3.ESP/2_ensemble/' + str(catchment_name) + '_' \n",
    "                      + str(past) + '_' + str(month).zfill(2) + '.txt') as fp:\n",
    "                data2 = fp.read()\n",
    "            # combine those two text files\n",
    "            data += data2\n",
    "            # rename and save the combined file in ens_scenario folder\n",
    "            with open (path + '/analysis/3.ESP/3_run/' + str(catchment_name) + '_' \n",
    "                       + str(year) + '_' + str(month).zfill(2) + '_' + str(past) + '.txt', 'w') as fp:\n",
    "                fp.write(data)\n",
    "                \n",
    "print('File combination has completed!')"
   ]
  },
  {
   "cell_type": "markdown",
   "id": "a7e72696",
   "metadata": {},
   "source": [
    "### 5. Run Tank model\n",
    "\n",
    "Input data for the ESP simulation has created, and now we run the Tank model for each scenario. For the simulation, 'Sim_SMTank.exe' file should exist in '3.ESP/3_run' folder."
   ]
  },
  {
   "cell_type": "markdown",
   "id": "cb0b3348",
   "metadata": {},
   "source": [
    "#### 5.1 Batch file generation for the multiple simulation\n",
    "\n",
    "To run the Tank model with multiple scenarios, this code generates the batch file. We define model name and input and out file names in order."
   ]
  },
  {
   "cell_type": "code",
   "execution_count": 14,
   "id": "07d0c689",
   "metadata": {},
   "outputs": [],
   "source": [
    "# basic setting of the batch file\n",
    "batfile_name = 'run_esp.bat'\n",
    "bat_file = open(path + '/analysis/3.ESP/3_run/' + batfile_name, \"w\")\n",
    "\n",
    "# allocate the input and output file names\n",
    "for ens_year in range(past_start_year, start_year):\n",
    "    for year in range(start_year, end_year +1):\n",
    "        for month in range(1, 13):        \n",
    "            bat_file.write(str('Sim_SMTank') + \" \" + catchment_name + '_' + str(year) + '_' + str(month).zfill(2) \n",
    "                           + '_' + str(ens_year) + '.txt' + \" \" + catchment_name + '_' + str(year) + '_' \n",
    "                           + str(month).zfill(2) + '_' + str(ens_year) + '.out'+ \"\\n\")\n",
    "bat_file.close()"
   ]
  },
  {
   "cell_type": "markdown",
   "id": "720c7e03",
   "metadata": {},
   "source": [
    "#### 5.2 Execute batch file to run Tank model\n",
    "\n",
    "Now, we run the Tank model using batch file that we have just made. If your are working with multiple years and months, it will take quite long time to terminate the whole simulation."
   ]
  },
  {
   "cell_type": "code",
   "execution_count": 15,
   "id": "2091731f",
   "metadata": {},
   "outputs": [
    {
     "name": "stdout",
     "output_type": "stream",
     "text": [
      "Tank model simulation has completed!\n"
     ]
    }
   ],
   "source": [
    "# set working directory and batch file\n",
    "workingDir = (path + '/analysis/3.ESP/3_run/')\n",
    "executeFile = (path + '/analysis/3.ESP/3_run/' + batfile_name)\n",
    "\n",
    "def run(esp):\n",
    "    os.chdir(workingDir)    \n",
    "    os.system(esp)\n",
    "    \n",
    "# run the batch file\n",
    "run(executeFile)\n",
    "\n",
    "print('Tank model simulation has completed!')"
   ]
  },
  {
   "cell_type": "markdown",
   "id": "33835c46",
   "metadata": {},
   "source": [
    "### 6. Result data management\n",
    "\n",
    "Simulation for ESP has terminated, and now it is time to manage the output data. "
   ]
  },
  {
   "cell_type": "markdown",
   "id": "5613aa2f",
   "metadata": {},
   "source": [
    "#### 6.1 Select simulated flow data form output files\n",
    "\n",
    "Output file contains diverse kinds of information such as precipitation, temperature and simulated flow. What we need is date and simulated flow. This code enables simulated flow data selection and add date information, then save the selected data to a csv file format.\n",
    "\n",
    "Note that, the unit of simulated flow is Cubic Meters per Second (CMS)."
   ]
  },
  {
   "cell_type": "code",
   "execution_count": 16,
   "id": "5c9f1603",
   "metadata": {},
   "outputs": [
    {
     "name": "stdout",
     "output_type": "stream",
     "text": [
      "Data selection is completed!\n"
     ]
    }
   ],
   "source": [
    "for year in range(start_year, end_year+1):\n",
    "    \n",
    "    for month in range(start_month,end_month+1):\n",
    "        \n",
    "        for past in range(past_start_year, start_year):\n",
    "            # calculate data gap between the warm up start date and the start of simulation\n",
    "            gap = datetime.datetime(year, month, 1) - datetime.datetime(int(warmup_year), 1, 1)\n",
    "            # select the column range (horizontal) for simulated flow data (No need to change this)\n",
    "            colspecs = [(55,64)]\n",
    "            # select the simulated flow data excluding the unnecessary rows (No need to chang this)\n",
    "            data_sel = pd.read_fwf(path + '/analysis/3.ESP/3_run/' + catchment_name + '_' + str(year) +  '_' \n",
    "                                   + str(month).zfill(2) +  '_'  + str(past) + '.out', \n",
    "                                   skiprows=48+gap.days, skipfooter=41, colspecs=colspecs, \n",
    "                                  names=['Q_sim_' + str(past)])\n",
    "            # allocate date\n",
    "            index=pd.date_range(datetime.datetime(year, month, 1), periods=len(data_sel)) \n",
    "            data_sel['date'] = index\n",
    "            data_sel = data_sel.set_index('date').reset_index()\n",
    "            # save the selected data as csv format\n",
    "            new_csv_file = data_sel.to_csv(path + '/analysis/3.ESP/3_run/' + catchment_name + '_' + str(year) +  '_' \n",
    "                                           + str(month).zfill(2) +  '_'  + str(past) + '.csv')\n",
    "print('Data selection is completed!')"
   ]
  },
  {
   "cell_type": "markdown",
   "id": "bbecea0c",
   "metadata": {},
   "source": [
    "#### 6.2 Monthly ensemble integration\n",
    "\n",
    "By the previous process, we generated the ensemble of simulated flow for each month. However, there are too many datasets to deal with and it is not efficient to manage the data. Therefore, we need to integrate every ensemble at each month."
   ]
  },
  {
   "cell_type": "code",
   "execution_count": 17,
   "id": "bcba3c77",
   "metadata": {
    "scrolled": false
   },
   "outputs": [
    {
     "name": "stdout",
     "output_type": "stream",
     "text": [
      "Monthly ESP simulation ensemble datasets are created!\n"
     ]
    }
   ],
   "source": [
    "for year in range(start_year, end_year+1):\n",
    "    for month in range(start_month, end_month+1):\n",
    "        # read the observed flow data to insert in the dataset we are going to generate\n",
    "        obs_flow = pd.read_csv(path + '/data/' + catchment_name + '_hydrologic_data.csv')\n",
    "        obs_flow['date'] = obs_flow['date'].astype('datetime64[ns]')    # date type\n",
    "        \n",
    "        # read the first year (same as past_start_year) data to use it as the first column\n",
    "        df_head = pd.read_csv(path + '/analysis/3.ESP/3_run/' + catchment_name + '_' + str(year) +  '_' \n",
    "                              + str(month).zfill(2) + '_' + str(past_start_year) + '.csv')\n",
    "        df_head['date'] = df_head['date'].astype('datetime64[ns]')\n",
    "        # insert lead time column\n",
    "        df_head['leadtime'] = df_head['date'].dt.month - month + 1 + 12 * (df_head['date'].dt.year - year)\n",
    "        df_head = df_head.iloc[:, [0,1,3,2]]\n",
    "\n",
    "        # fill the next year's ensemble next to the previous column\n",
    "        for past in range(int(past_start_year)+1, start_year):\n",
    "            # read simulated flow data one by one \n",
    "            df = pd.read_csv(path + '/analysis/3.ESP/3_run/' + catchment_name + '_' + str(year) +  '_' + str(month).zfill(2)\n",
    "                             +  '_'  + str(past) + '.csv')\n",
    "            df['date'] = pd.to_datetime(df['date'], infer_datetime_format=True, format='%m/%d/%Y', errors='ignore')\n",
    "            df_head[past] = df.iloc[:,2]\n",
    "                   \n",
    "        del df_head['Unnamed: 0'] # delete unnecessary column \n",
    "        df_head.rename(columns = {'Q_sim_1966':1966},inplace=True) # simplify the column name\n",
    "        # insert forecasted mean column\n",
    "        df_head['mean'] = round(df_head.loc[:,1966:].mean(axis=1),2)\n",
    "        # insert observed flow column\n",
    "        df_head['obs'] = np.nan                                            # Insert observed data (time consuming)\n",
    "        df_head['obs'] = np.where(df_head['obs'].isna(), df_head['date'].map(obs_flow.set_index('date')['obs_flow']), df_head['obs'])    # observed data referencing\n",
    "        df_head.set_index('date', inplace=True)\n",
    "        # save the integrated ESP ensemble datasets to csv format\n",
    "        df_head.to_csv(path + '/analysis/3.ESP/3_run/' + '[out]' + catchment_name +  '_' + str(year) +  '_' \n",
    "                       + str(month).zfill(2) + '.csv')\n",
    "print('Monthly ESP simulation ensemble datasets are created!')"
   ]
  },
  {
   "cell_type": "code",
   "execution_count": null,
   "id": "fb3a11a3",
   "metadata": {},
   "outputs": [],
   "source": []
  }
 ],
 "metadata": {
  "kernelspec": {
   "display_name": "Python 3",
   "language": "python",
   "name": "python3"
  },
  "language_info": {
   "codemirror_mode": {
    "name": "ipython",
    "version": 3
   },
   "file_extension": ".py",
   "mimetype": "text/x-python",
   "name": "python",
   "nbconvert_exporter": "python",
   "pygments_lexer": "ipython3",
   "version": "3.8.8"
  }
 },
 "nbformat": 4,
 "nbformat_minor": 5
}
